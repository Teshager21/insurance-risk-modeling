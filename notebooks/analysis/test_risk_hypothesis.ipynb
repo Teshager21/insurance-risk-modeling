{
 "cells": [
  {
   "cell_type": "code",
   "execution_count": 1,
   "id": "e0c5a26d",
   "metadata": {},
   "outputs": [],
   "source": [
    "%load_ext autoreload\n",
    "%autoreload"
   ]
  },
  {
   "cell_type": "code",
   "execution_count": 2,
   "id": "b50f4523",
   "metadata": {},
   "outputs": [],
   "source": [
    "import warnings\n",
    "import os\n",
    "from pathlib import Path\n",
    "import pandas as pd\n",
    "from dotenv import load_dotenv\n",
    "from analysis.risk_hypthesis_tester import RiskHypothesisTester\n",
    "from utils.load_data import load_local_data"
   ]
  },
  {
   "cell_type": "code",
   "execution_count": 3,
   "id": "26542939",
   "metadata": {},
   "outputs": [
    {
     "data": {
      "text/plain": [
       "True"
      ]
     },
     "execution_count": 3,
     "metadata": {},
     "output_type": "execute_result"
    }
   ],
   "source": [
    "#suppress warning errors\n",
    "warnings.filterwarnings(\"ignore\")\n",
    "#load enviroment variables\n",
    "load_dotenv()"
   ]
  },
  {
   "cell_type": "code",
   "execution_count": 4,
   "id": "5eb65c19",
   "metadata": {},
   "outputs": [
    {
     "name": "stdout",
     "output_type": "stream",
     "text": [
      "Project root set to: /home/teshager/Documents/10Academy/repositories/projects/insurance-risk-modeling\n"
     ]
    }
   ],
   "source": [
    "# Automatically go to project root (where .git or README.md is)\n",
    "project_root = Path.cwd()\n",
    "while not (project_root / \"README.md\").exists() and project_root != project_root.parent:\n",
    "    project_root = project_root.parent\n",
    "\n",
    "os.chdir(project_root)\n",
    "print(\"Project root set to:\", project_root)\n"
   ]
  },
  {
   "cell_type": "markdown",
   "id": "6236e989",
   "metadata": {},
   "source": [
    "## 🧱 1. Setup & Imports"
   ]
  },
  {
   "cell_type": "code",
   "execution_count": 5,
   "id": "e74e9467",
   "metadata": {},
   "outputs": [
    {
     "data": {
      "text/html": [
       "<div>\n",
       "<style scoped>\n",
       "    .dataframe tbody tr th:only-of-type {\n",
       "        vertical-align: middle;\n",
       "    }\n",
       "\n",
       "    .dataframe tbody tr th {\n",
       "        vertical-align: top;\n",
       "    }\n",
       "\n",
       "    .dataframe thead th {\n",
       "        text-align: right;\n",
       "    }\n",
       "</style>\n",
       "<table border=\"1\" class=\"dataframe\">\n",
       "  <thead>\n",
       "    <tr style=\"text-align: right;\">\n",
       "      <th></th>\n",
       "      <th>UnderwrittenCoverID</th>\n",
       "      <th>PolicyID</th>\n",
       "      <th>TransactionMonth</th>\n",
       "      <th>IsVATRegistered</th>\n",
       "      <th>Citizenship</th>\n",
       "      <th>LegalType</th>\n",
       "      <th>Title</th>\n",
       "      <th>Bank</th>\n",
       "      <th>AccountType</th>\n",
       "      <th>MaritalStatus</th>\n",
       "      <th>...</th>\n",
       "      <th>CalculatedPremiumPerTerm</th>\n",
       "      <th>ExcessSelected</th>\n",
       "      <th>CoverCategory</th>\n",
       "      <th>CoverType</th>\n",
       "      <th>CoverGroup</th>\n",
       "      <th>Section</th>\n",
       "      <th>Product</th>\n",
       "      <th>TotalPremium</th>\n",
       "      <th>TotalClaims</th>\n",
       "      <th>Gender_Inferred</th>\n",
       "    </tr>\n",
       "  </thead>\n",
       "  <tbody>\n",
       "    <tr>\n",
       "      <th>0</th>\n",
       "      <td>145249</td>\n",
       "      <td>12827</td>\n",
       "      <td>2015-03-01 00:00:00</td>\n",
       "      <td>True</td>\n",
       "      <td></td>\n",
       "      <td>Close Corporation</td>\n",
       "      <td>Mr</td>\n",
       "      <td>First National Bank</td>\n",
       "      <td>Current account</td>\n",
       "      <td>Not specified</td>\n",
       "      <td>...</td>\n",
       "      <td>25.0000</td>\n",
       "      <td>Mobility - Windscreen</td>\n",
       "      <td>Windscreen</td>\n",
       "      <td>Windscreen</td>\n",
       "      <td>Comprehensive - Taxi</td>\n",
       "      <td>Motor Comprehensive</td>\n",
       "      <td>Mobility Metered Taxis: Monthly</td>\n",
       "      <td>21.929825</td>\n",
       "      <td>0.0</td>\n",
       "      <td>Male</td>\n",
       "    </tr>\n",
       "    <tr>\n",
       "      <th>1</th>\n",
       "      <td>145249</td>\n",
       "      <td>12827</td>\n",
       "      <td>2015-05-01 00:00:00</td>\n",
       "      <td>True</td>\n",
       "      <td></td>\n",
       "      <td>Close Corporation</td>\n",
       "      <td>Mr</td>\n",
       "      <td>First National Bank</td>\n",
       "      <td>Current account</td>\n",
       "      <td>Not specified</td>\n",
       "      <td>...</td>\n",
       "      <td>25.0000</td>\n",
       "      <td>Mobility - Windscreen</td>\n",
       "      <td>Windscreen</td>\n",
       "      <td>Windscreen</td>\n",
       "      <td>Comprehensive - Taxi</td>\n",
       "      <td>Motor Comprehensive</td>\n",
       "      <td>Mobility Metered Taxis: Monthly</td>\n",
       "      <td>21.929825</td>\n",
       "      <td>0.0</td>\n",
       "      <td>Male</td>\n",
       "    </tr>\n",
       "    <tr>\n",
       "      <th>2</th>\n",
       "      <td>145249</td>\n",
       "      <td>12827</td>\n",
       "      <td>2015-07-01 00:00:00</td>\n",
       "      <td>True</td>\n",
       "      <td></td>\n",
       "      <td>Close Corporation</td>\n",
       "      <td>Mr</td>\n",
       "      <td>First National Bank</td>\n",
       "      <td>Current account</td>\n",
       "      <td>Not specified</td>\n",
       "      <td>...</td>\n",
       "      <td>25.0000</td>\n",
       "      <td>Mobility - Windscreen</td>\n",
       "      <td>Windscreen</td>\n",
       "      <td>Windscreen</td>\n",
       "      <td>Comprehensive - Taxi</td>\n",
       "      <td>Motor Comprehensive</td>\n",
       "      <td>Mobility Metered Taxis: Monthly</td>\n",
       "      <td>0.000000</td>\n",
       "      <td>0.0</td>\n",
       "      <td>Male</td>\n",
       "    </tr>\n",
       "    <tr>\n",
       "      <th>3</th>\n",
       "      <td>145255</td>\n",
       "      <td>12827</td>\n",
       "      <td>2015-05-01 00:00:00</td>\n",
       "      <td>True</td>\n",
       "      <td></td>\n",
       "      <td>Close Corporation</td>\n",
       "      <td>Mr</td>\n",
       "      <td>First National Bank</td>\n",
       "      <td>Current account</td>\n",
       "      <td>Not specified</td>\n",
       "      <td>...</td>\n",
       "      <td>584.6468</td>\n",
       "      <td>Mobility - Metered Taxis - R2000</td>\n",
       "      <td>Own damage</td>\n",
       "      <td>Own Damage</td>\n",
       "      <td>Comprehensive - Taxi</td>\n",
       "      <td>Motor Comprehensive</td>\n",
       "      <td>Mobility Metered Taxis: Monthly</td>\n",
       "      <td>512.848070</td>\n",
       "      <td>0.0</td>\n",
       "      <td>Male</td>\n",
       "    </tr>\n",
       "    <tr>\n",
       "      <th>4</th>\n",
       "      <td>145255</td>\n",
       "      <td>12827</td>\n",
       "      <td>2015-07-01 00:00:00</td>\n",
       "      <td>True</td>\n",
       "      <td></td>\n",
       "      <td>Close Corporation</td>\n",
       "      <td>Mr</td>\n",
       "      <td>First National Bank</td>\n",
       "      <td>Current account</td>\n",
       "      <td>Not specified</td>\n",
       "      <td>...</td>\n",
       "      <td>584.6468</td>\n",
       "      <td>Mobility - Metered Taxis - R2000</td>\n",
       "      <td>Own damage</td>\n",
       "      <td>Own Damage</td>\n",
       "      <td>Comprehensive - Taxi</td>\n",
       "      <td>Motor Comprehensive</td>\n",
       "      <td>Mobility Metered Taxis: Monthly</td>\n",
       "      <td>0.000000</td>\n",
       "      <td>0.0</td>\n",
       "      <td>Male</td>\n",
       "    </tr>\n",
       "  </tbody>\n",
       "</table>\n",
       "<p>5 rows × 45 columns</p>\n",
       "</div>"
      ],
      "text/plain": [
       "   UnderwrittenCoverID  PolicyID     TransactionMonth  IsVATRegistered  \\\n",
       "0               145249     12827  2015-03-01 00:00:00             True   \n",
       "1               145249     12827  2015-05-01 00:00:00             True   \n",
       "2               145249     12827  2015-07-01 00:00:00             True   \n",
       "3               145255     12827  2015-05-01 00:00:00             True   \n",
       "4               145255     12827  2015-07-01 00:00:00             True   \n",
       "\n",
       "  Citizenship          LegalType Title                 Bank      AccountType  \\\n",
       "0              Close Corporation    Mr  First National Bank  Current account   \n",
       "1              Close Corporation    Mr  First National Bank  Current account   \n",
       "2              Close Corporation    Mr  First National Bank  Current account   \n",
       "3              Close Corporation    Mr  First National Bank  Current account   \n",
       "4              Close Corporation    Mr  First National Bank  Current account   \n",
       "\n",
       "   MaritalStatus  ... CalculatedPremiumPerTerm  \\\n",
       "0  Not specified  ...                  25.0000   \n",
       "1  Not specified  ...                  25.0000   \n",
       "2  Not specified  ...                  25.0000   \n",
       "3  Not specified  ...                 584.6468   \n",
       "4  Not specified  ...                 584.6468   \n",
       "\n",
       "                     ExcessSelected CoverCategory   CoverType  \\\n",
       "0             Mobility - Windscreen    Windscreen  Windscreen   \n",
       "1             Mobility - Windscreen    Windscreen  Windscreen   \n",
       "2             Mobility - Windscreen    Windscreen  Windscreen   \n",
       "3  Mobility - Metered Taxis - R2000    Own damage  Own Damage   \n",
       "4  Mobility - Metered Taxis - R2000    Own damage  Own Damage   \n",
       "\n",
       "             CoverGroup              Section                          Product  \\\n",
       "0  Comprehensive - Taxi  Motor Comprehensive  Mobility Metered Taxis: Monthly   \n",
       "1  Comprehensive - Taxi  Motor Comprehensive  Mobility Metered Taxis: Monthly   \n",
       "2  Comprehensive - Taxi  Motor Comprehensive  Mobility Metered Taxis: Monthly   \n",
       "3  Comprehensive - Taxi  Motor Comprehensive  Mobility Metered Taxis: Monthly   \n",
       "4  Comprehensive - Taxi  Motor Comprehensive  Mobility Metered Taxis: Monthly   \n",
       "\n",
       "  TotalPremium TotalClaims  Gender_Inferred  \n",
       "0    21.929825         0.0             Male  \n",
       "1    21.929825         0.0             Male  \n",
       "2     0.000000         0.0             Male  \n",
       "3   512.848070         0.0             Male  \n",
       "4     0.000000         0.0             Male  \n",
       "\n",
       "[5 rows x 45 columns]"
      ]
     },
     "execution_count": 5,
     "metadata": {},
     "output_type": "execute_result"
    }
   ],
   "source": [
    "# Load the insurance data\n",
    "processed_data_dir=os.getenv(\"PROCESSED_DATA\")\n",
    "file_path= os.path.join(processed_data_dir,'cleaned_insurance_data.csv')\n",
    "df=pd.read_csv(file_path).drop('CustomValueEstimate',axis=1)\n",
    "df.head()"
   ]
  },
  {
   "cell_type": "code",
   "execution_count": 7,
   "id": "679cfa71",
   "metadata": {},
   "outputs": [
    {
     "data": {
      "text/plain": [
       "Index(['AccountType', 'AlarmImmobiliser', 'Bank', 'CalculatedPremiumPerTerm',\n",
       "       'CapitalOutstanding', 'Citizenship', 'Converted', 'CoverCategory',\n",
       "       'CoverGroup', 'CoverType', 'CrossBorder', 'Cylinders', 'ExcessSelected',\n",
       "       'Gender_Inferred', 'IsVATRegistered', 'LegalType', 'MainCrestaZone',\n",
       "       'MaritalStatus', 'Model', 'NewVehicle', 'NumberOfDoors', 'PolicyID',\n",
       "       'PostalCode', 'Product', 'Province', 'Rebuilt', 'RegistrationYear',\n",
       "       'Section', 'SubCrestaZone', 'SumInsured', 'TermFrequency', 'Title',\n",
       "       'TotalClaims', 'TotalPremium', 'TrackingDevice', 'TransactionMonth',\n",
       "       'UnderwrittenCoverID', 'VehicleIntroDate', 'VehicleType', 'WrittenOff',\n",
       "       'bodytype', 'cubiccapacity', 'kilowatts', 'make', 'mmcode'],\n",
       "      dtype='object')"
      ]
     },
     "execution_count": 7,
     "metadata": {},
     "output_type": "execute_result"
    }
   ],
   "source": [
    "df.columns.sort_values()"
   ]
  },
  {
   "cell_type": "code",
   "execution_count": 20,
   "id": "14c3aa96",
   "metadata": {},
   "outputs": [
    {
     "data": {
      "text/plain": [
       "Index(['UnderwrittenCoverID', 'PolicyID', 'TransactionMonth',\n",
       "       'IsVATRegistered', 'Citizenship', 'LegalType', 'Title', 'Bank',\n",
       "       'AccountType', 'MaritalStatus', 'Province', 'PostalCode',\n",
       "       'MainCrestaZone', 'SubCrestaZone', 'mmcode', 'VehicleType',\n",
       "       'RegistrationYear', 'make', 'Model', 'Cylinders', 'cubiccapacity',\n",
       "       'kilowatts', 'bodytype', 'NumberOfDoors', 'VehicleIntroDate',\n",
       "       'AlarmImmobiliser', 'TrackingDevice', 'CapitalOutstanding',\n",
       "       'NewVehicle', 'WrittenOff', 'Rebuilt', 'Converted', 'CrossBorder',\n",
       "       'SumInsured', 'TermFrequency', 'CalculatedPremiumPerTerm',\n",
       "       'ExcessSelected', 'CoverCategory', 'CoverType', 'CoverGroup', 'Section',\n",
       "       'Product', 'TotalPremium', 'TotalClaims', 'Gender'],\n",
       "      dtype='object')"
      ]
     },
     "execution_count": 20,
     "metadata": {},
     "output_type": "execute_result"
    }
   ],
   "source": [
    "# Define columns\n",
    "group_col = 'Gender'\n",
    "metric_col = 'TotalClaims'\n",
    "\n",
    "#rename the gender_inferred column\n",
    "\n",
    "df=df.rename(columns={'Gender_Inferred':\"Gender\"})\n",
    "df.columns\n"
   ]
  },
  {
   "cell_type": "code",
   "execution_count": 21,
   "id": "674325f2",
   "metadata": {},
   "outputs": [],
   "source": [
    "\n",
    "# Initialize the tester\n",
    "tester = RiskHypothesisTester(df)"
   ]
  },
  {
   "cell_type": "code",
   "execution_count": 22,
   "id": "6077f9bc",
   "metadata": {},
   "outputs": [
    {
     "data": {
      "text/plain": [
       "Gender\n",
       "Male      933812\n",
       "Female     65732\n",
       "Name: count, dtype: int64"
      ]
     },
     "execution_count": 22,
     "metadata": {},
     "output_type": "execute_result"
    }
   ],
   "source": [
    "df['Gender'].value_counts()"
   ]
  },
  {
   "cell_type": "code",
   "execution_count": 23,
   "id": "c580c65e",
   "metadata": {},
   "outputs": [
    {
     "name": "stderr",
     "output_type": "stream",
     "text": [
      "[2025-06-13 13:45:11,969] INFO: Running t-test for TotalClaims by Gender...\n",
      "INFO:analysis.risk_hypthesis_tester:Running t-test for TotalClaims by Gender...\n",
      "[2025-06-13 13:45:12,985] INFO: T-test result (p=0.02442): REJECT null\n",
      "INFO:analysis.risk_hypthesis_tester:T-test result (p=0.02442): REJECT null\n"
     ]
    }
   ],
   "source": [
    "# Run the test\n",
    "# result = tester.two_sample_ttest(group_col=group_col, metric_col=metric_col, equal_var=False)\n",
    "result= tester.run_ttest(feature=group_col,metric=metric_col)"
   ]
  },
  {
   "cell_type": "code",
   "execution_count": 24,
   "id": "557aed9f",
   "metadata": {},
   "outputs": [
    {
     "name": "stdout",
     "output_type": "stream",
     "text": [
      "{'feature': 'Gender', 'metric': 'TotalClaims', 'group_a': 'Male', 'group_b': 'Female', 't_stat': 2.250445015518036, 'p_value': 0.024423519322613906}\n"
     ]
    }
   ],
   "source": [
    "# View result\n",
    "print(result)"
   ]
  }
 ],
 "metadata": {
  "kernelspec": {
   "display_name": "venv",
   "language": "python",
   "name": "python3"
  },
  "language_info": {
   "codemirror_mode": {
    "name": "ipython",
    "version": 3
   },
   "file_extension": ".py",
   "mimetype": "text/x-python",
   "name": "python",
   "nbconvert_exporter": "python",
   "pygments_lexer": "ipython3",
   "version": "3.10.12"
  }
 },
 "nbformat": 4,
 "nbformat_minor": 5
}
