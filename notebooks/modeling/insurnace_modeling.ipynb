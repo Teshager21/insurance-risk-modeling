{
 "cells": [
  {
   "cell_type": "markdown",
   "id": "058774fa",
   "metadata": {},
   "source": [
    "## 🧱 0. Setup & Imports"
   ]
  },
  {
   "cell_type": "code",
   "execution_count": 2,
   "id": "2b86c2dc",
   "metadata": {},
   "outputs": [],
   "source": [
    "%load_ext autoreload\n",
    "%autoreload 2"
   ]
  },
  {
   "cell_type": "code",
   "execution_count": 3,
   "id": "0690b35c",
   "metadata": {},
   "outputs": [
    {
     "name": "stderr",
     "output_type": "stream",
     "text": [
      "/home/teshager/Documents/10Academy/repositories/projects/insurance-risk-modeling/venv/lib/python3.10/site-packages/tqdm/auto.py:21: TqdmWarning: IProgress not found. Please update jupyter and ipywidgets. See https://ipywidgets.readthedocs.io/en/stable/user_install.html\n",
      "  from .autonotebook import tqdm as notebook_tqdm\n"
     ]
    }
   ],
   "source": [
    "import os\n",
    "import pandas as pd\n",
    "import numpy as np\n",
    "import warnings\n",
    "from pathlib import Path\n",
    "import matplotlib.pyplot as plt\n",
    "import seaborn as sns\n",
    "from dotenv import load_dotenv\n",
    "import sweetviz\n",
    "from sklearn.model_selection import train_test_split, GridSearchCV, cross_val_score\n",
    "from sklearn.pipeline import Pipeline\n",
    "from sklearn.compose import ColumnTransformer\n",
    "from sklearn.preprocessing import StandardScaler, OneHotEncoder\n",
    "from sklearn.impute import SimpleImputer\n",
    "from sklearn.metrics import mean_squared_error, r2_score, accuracy_score, classification_report"
   ]
  },
  {
   "cell_type": "code",
   "execution_count": 4,
   "id": "16962def",
   "metadata": {},
   "outputs": [
    {
     "data": {
      "text/plain": [
       "True"
      ]
     },
     "execution_count": 4,
     "metadata": {},
     "output_type": "execute_result"
    }
   ],
   "source": [
    "#suppress warning errors\n",
    "warnings.filterwarnings(\"ignore\")\n",
    "#load enviroment variables\n",
    "load_dotenv()"
   ]
  },
  {
   "cell_type": "code",
   "execution_count": 5,
   "id": "eaff2fb8",
   "metadata": {},
   "outputs": [
    {
     "name": "stdout",
     "output_type": "stream",
     "text": [
      "Project root set to: /home/teshager/Documents/10Academy/repositories/projects/insurance-risk-modeling\n"
     ]
    }
   ],
   "source": [
    "# Automatically go to project root (where .git or README.md is)\n",
    "project_root = Path.cwd()\n",
    "while not (project_root / \"README.md\").exists() and project_root != project_root.parent:\n",
    "    project_root = project_root.parent\n",
    "\n",
    "os.chdir(project_root)\n",
    "print(\"Project root set to:\", project_root)\n"
   ]
  },
  {
   "cell_type": "markdown",
   "id": "8a744e33",
   "metadata": {},
   "source": [
    "## 🔁 Step 1: Look at the Big Picture"
   ]
  },
  {
   "cell_type": "markdown",
   "id": "9009efe4",
   "metadata": {
    "vscode": {
     "languageId": "plaintext"
    }
   },
   "source": [
    "### Framing the problem,Business Objective,Current Solution,Machine Learning Task & Assumptions:"
   ]
  },
  {
   "cell_type": "markdown",
   "id": "62a01d68",
   "metadata": {},
   "source": [
    "| Element                | Description                                                               |\n",
    "| ---------------------- | ------------------------------------------------------------------------- |\n",
    "| **Business Objective** | Predict risk & set optimal premiums                                       |\n",
    "| **Current Solution**   | Flat-rate pricing based on limited heuristics                             |\n",
    "| **ML Tasks**           | Regression (severity), classification (probability), regression (premium) |\n",
    "| **Assumptions**        | Data is representative, features correlate with claim behavior, etc.      |\n"
   ]
  },
  {
   "cell_type": "markdown",
   "id": "d43a55cd",
   "metadata": {
    "vscode": {
     "languageId": "plaintext"
    }
   },
   "source": [
    "## 📦 Step 2: Load the Data"
   ]
  },
  {
   "cell_type": "code",
   "execution_count": 6,
   "id": "d80c2e4e",
   "metadata": {},
   "outputs": [
    {
     "data": {
      "text/html": [
       "<div>\n",
       "<style scoped>\n",
       "    .dataframe tbody tr th:only-of-type {\n",
       "        vertical-align: middle;\n",
       "    }\n",
       "\n",
       "    .dataframe tbody tr th {\n",
       "        vertical-align: top;\n",
       "    }\n",
       "\n",
       "    .dataframe thead th {\n",
       "        text-align: right;\n",
       "    }\n",
       "</style>\n",
       "<table border=\"1\" class=\"dataframe\">\n",
       "  <thead>\n",
       "    <tr style=\"text-align: right;\">\n",
       "      <th></th>\n",
       "      <th>UnderwrittenCoverID</th>\n",
       "      <th>PolicyID</th>\n",
       "      <th>TransactionMonth</th>\n",
       "      <th>IsVATRegistered</th>\n",
       "      <th>Citizenship</th>\n",
       "      <th>LegalType</th>\n",
       "      <th>Title</th>\n",
       "      <th>Bank</th>\n",
       "      <th>AccountType</th>\n",
       "      <th>MaritalStatus</th>\n",
       "      <th>...</th>\n",
       "      <th>CalculatedPremiumPerTerm</th>\n",
       "      <th>ExcessSelected</th>\n",
       "      <th>CoverCategory</th>\n",
       "      <th>CoverType</th>\n",
       "      <th>CoverGroup</th>\n",
       "      <th>Section</th>\n",
       "      <th>Product</th>\n",
       "      <th>TotalPremium</th>\n",
       "      <th>TotalClaims</th>\n",
       "      <th>Gender_Inferred</th>\n",
       "    </tr>\n",
       "  </thead>\n",
       "  <tbody>\n",
       "    <tr>\n",
       "      <th>0</th>\n",
       "      <td>145249</td>\n",
       "      <td>12827</td>\n",
       "      <td>2015-03-01 00:00:00</td>\n",
       "      <td>True</td>\n",
       "      <td></td>\n",
       "      <td>Close Corporation</td>\n",
       "      <td>Mr</td>\n",
       "      <td>First National Bank</td>\n",
       "      <td>Current account</td>\n",
       "      <td>Not specified</td>\n",
       "      <td>...</td>\n",
       "      <td>25.0000</td>\n",
       "      <td>Mobility - Windscreen</td>\n",
       "      <td>Windscreen</td>\n",
       "      <td>Windscreen</td>\n",
       "      <td>Comprehensive - Taxi</td>\n",
       "      <td>Motor Comprehensive</td>\n",
       "      <td>Mobility Metered Taxis: Monthly</td>\n",
       "      <td>21.929825</td>\n",
       "      <td>0.0</td>\n",
       "      <td>Male</td>\n",
       "    </tr>\n",
       "    <tr>\n",
       "      <th>1</th>\n",
       "      <td>145249</td>\n",
       "      <td>12827</td>\n",
       "      <td>2015-05-01 00:00:00</td>\n",
       "      <td>True</td>\n",
       "      <td></td>\n",
       "      <td>Close Corporation</td>\n",
       "      <td>Mr</td>\n",
       "      <td>First National Bank</td>\n",
       "      <td>Current account</td>\n",
       "      <td>Not specified</td>\n",
       "      <td>...</td>\n",
       "      <td>25.0000</td>\n",
       "      <td>Mobility - Windscreen</td>\n",
       "      <td>Windscreen</td>\n",
       "      <td>Windscreen</td>\n",
       "      <td>Comprehensive - Taxi</td>\n",
       "      <td>Motor Comprehensive</td>\n",
       "      <td>Mobility Metered Taxis: Monthly</td>\n",
       "      <td>21.929825</td>\n",
       "      <td>0.0</td>\n",
       "      <td>Male</td>\n",
       "    </tr>\n",
       "    <tr>\n",
       "      <th>2</th>\n",
       "      <td>145249</td>\n",
       "      <td>12827</td>\n",
       "      <td>2015-07-01 00:00:00</td>\n",
       "      <td>True</td>\n",
       "      <td></td>\n",
       "      <td>Close Corporation</td>\n",
       "      <td>Mr</td>\n",
       "      <td>First National Bank</td>\n",
       "      <td>Current account</td>\n",
       "      <td>Not specified</td>\n",
       "      <td>...</td>\n",
       "      <td>25.0000</td>\n",
       "      <td>Mobility - Windscreen</td>\n",
       "      <td>Windscreen</td>\n",
       "      <td>Windscreen</td>\n",
       "      <td>Comprehensive - Taxi</td>\n",
       "      <td>Motor Comprehensive</td>\n",
       "      <td>Mobility Metered Taxis: Monthly</td>\n",
       "      <td>0.000000</td>\n",
       "      <td>0.0</td>\n",
       "      <td>Male</td>\n",
       "    </tr>\n",
       "    <tr>\n",
       "      <th>3</th>\n",
       "      <td>145255</td>\n",
       "      <td>12827</td>\n",
       "      <td>2015-05-01 00:00:00</td>\n",
       "      <td>True</td>\n",
       "      <td></td>\n",
       "      <td>Close Corporation</td>\n",
       "      <td>Mr</td>\n",
       "      <td>First National Bank</td>\n",
       "      <td>Current account</td>\n",
       "      <td>Not specified</td>\n",
       "      <td>...</td>\n",
       "      <td>584.6468</td>\n",
       "      <td>Mobility - Metered Taxis - R2000</td>\n",
       "      <td>Own damage</td>\n",
       "      <td>Own Damage</td>\n",
       "      <td>Comprehensive - Taxi</td>\n",
       "      <td>Motor Comprehensive</td>\n",
       "      <td>Mobility Metered Taxis: Monthly</td>\n",
       "      <td>512.848070</td>\n",
       "      <td>0.0</td>\n",
       "      <td>Male</td>\n",
       "    </tr>\n",
       "    <tr>\n",
       "      <th>4</th>\n",
       "      <td>145255</td>\n",
       "      <td>12827</td>\n",
       "      <td>2015-07-01 00:00:00</td>\n",
       "      <td>True</td>\n",
       "      <td></td>\n",
       "      <td>Close Corporation</td>\n",
       "      <td>Mr</td>\n",
       "      <td>First National Bank</td>\n",
       "      <td>Current account</td>\n",
       "      <td>Not specified</td>\n",
       "      <td>...</td>\n",
       "      <td>584.6468</td>\n",
       "      <td>Mobility - Metered Taxis - R2000</td>\n",
       "      <td>Own damage</td>\n",
       "      <td>Own Damage</td>\n",
       "      <td>Comprehensive - Taxi</td>\n",
       "      <td>Motor Comprehensive</td>\n",
       "      <td>Mobility Metered Taxis: Monthly</td>\n",
       "      <td>0.000000</td>\n",
       "      <td>0.0</td>\n",
       "      <td>Male</td>\n",
       "    </tr>\n",
       "  </tbody>\n",
       "</table>\n",
       "<p>5 rows × 45 columns</p>\n",
       "</div>"
      ],
      "text/plain": [
       "   UnderwrittenCoverID  PolicyID     TransactionMonth  IsVATRegistered  \\\n",
       "0               145249     12827  2015-03-01 00:00:00             True   \n",
       "1               145249     12827  2015-05-01 00:00:00             True   \n",
       "2               145249     12827  2015-07-01 00:00:00             True   \n",
       "3               145255     12827  2015-05-01 00:00:00             True   \n",
       "4               145255     12827  2015-07-01 00:00:00             True   \n",
       "\n",
       "  Citizenship          LegalType Title                 Bank      AccountType  \\\n",
       "0              Close Corporation    Mr  First National Bank  Current account   \n",
       "1              Close Corporation    Mr  First National Bank  Current account   \n",
       "2              Close Corporation    Mr  First National Bank  Current account   \n",
       "3              Close Corporation    Mr  First National Bank  Current account   \n",
       "4              Close Corporation    Mr  First National Bank  Current account   \n",
       "\n",
       "   MaritalStatus  ... CalculatedPremiumPerTerm  \\\n",
       "0  Not specified  ...                  25.0000   \n",
       "1  Not specified  ...                  25.0000   \n",
       "2  Not specified  ...                  25.0000   \n",
       "3  Not specified  ...                 584.6468   \n",
       "4  Not specified  ...                 584.6468   \n",
       "\n",
       "                     ExcessSelected CoverCategory   CoverType  \\\n",
       "0             Mobility - Windscreen    Windscreen  Windscreen   \n",
       "1             Mobility - Windscreen    Windscreen  Windscreen   \n",
       "2             Mobility - Windscreen    Windscreen  Windscreen   \n",
       "3  Mobility - Metered Taxis - R2000    Own damage  Own Damage   \n",
       "4  Mobility - Metered Taxis - R2000    Own damage  Own Damage   \n",
       "\n",
       "             CoverGroup              Section                          Product  \\\n",
       "0  Comprehensive - Taxi  Motor Comprehensive  Mobility Metered Taxis: Monthly   \n",
       "1  Comprehensive - Taxi  Motor Comprehensive  Mobility Metered Taxis: Monthly   \n",
       "2  Comprehensive - Taxi  Motor Comprehensive  Mobility Metered Taxis: Monthly   \n",
       "3  Comprehensive - Taxi  Motor Comprehensive  Mobility Metered Taxis: Monthly   \n",
       "4  Comprehensive - Taxi  Motor Comprehensive  Mobility Metered Taxis: Monthly   \n",
       "\n",
       "  TotalPremium TotalClaims  Gender_Inferred  \n",
       "0    21.929825         0.0             Male  \n",
       "1    21.929825         0.0             Male  \n",
       "2     0.000000         0.0             Male  \n",
       "3   512.848070         0.0             Male  \n",
       "4     0.000000         0.0             Male  \n",
       "\n",
       "[5 rows x 45 columns]"
      ]
     },
     "execution_count": 6,
     "metadata": {},
     "output_type": "execute_result"
    }
   ],
   "source": [
    "# Load the insurance data\n",
    "processed_data_dir=os.getenv(\"PROCESSED_DATA\")\n",
    "file_path= os.path.join(processed_data_dir,'cleaned_insurance_data.parquet')\n",
    "df=pd.read_parquet(file_path)\n",
    "df.head()\n"
   ]
  },
  {
   "cell_type": "markdown",
   "id": "ba4c14b5",
   "metadata": {
    "vscode": {
     "languageId": "plaintext"
    }
   },
   "source": [
    "## 📊 Step 3: Explore the Data"
   ]
  },
  {
   "cell_type": "markdown",
   "id": "86c68eca",
   "metadata": {
    "vscode": {
     "languageId": "plaintext"
    }
   },
   "source": [
    "## Step 4 Discover and Visualize the Data to Gain Insights"
   ]
  },
  {
   "cell_type": "code",
   "execution_count": 7,
   "id": "6cd784d5",
   "metadata": {},
   "outputs": [
    {
     "name": "stderr",
     "output_type": "stream",
     "text": [
      "Done! Use 'show' commands to display/save.   |██████████| [100%]   00:02 -> (00:00 left)"
     ]
    },
    {
     "name": "stdout",
     "output_type": "stream",
     "text": [
      "Report reports/insurance_sweetviz.html was generated! NOTEBOOK/COLAB USERS: the web browser MAY not pop up, regardless, the report IS saved in your notebook/colab files.\n"
     ]
    },
    {
     "name": "stderr",
     "output_type": "stream",
     "text": [
      "\n"
     ]
    }
   ],
   "source": [
    "report = sweetviz.analyze(df)\n",
    "report.show_html(\"reports/insurance_sweetviz.html\")\n"
   ]
  },
  {
   "cell_type": "markdown",
   "id": "3b36fd86",
   "metadata": {},
   "source": [
    "#### Sweetviz"
   ]
  },
  {
   "cell_type": "markdown",
   "id": "4902540a",
   "metadata": {},
   "source": [
    "### Quick Look at the Data Structure:"
   ]
  },
  {
   "cell_type": "markdown",
   "id": "28e240b6",
   "metadata": {},
   "source": [
    "### Visualize the Data:"
   ]
  },
  {
   "cell_type": "code",
   "execution_count": 8,
   "id": "37625e60",
   "metadata": {},
   "outputs": [
    {
     "ename": "NameError",
     "evalue": "name 'AutoViz_Class' is not defined",
     "output_type": "error",
     "traceback": [
      "\u001b[0;31m---------------------------------------------------------------------------\u001b[0m",
      "\u001b[0;31mNameError\u001b[0m                                 Traceback (most recent call last)",
      "Cell \u001b[0;32mIn[8], line 2\u001b[0m\n\u001b[1;32m      1\u001b[0m \u001b[38;5;66;03m# 📊 Step 2: Run AutoViz Analysis\u001b[39;00m\n\u001b[0;32m----> 2\u001b[0m AV \u001b[38;5;241m=\u001b[39m \u001b[43mAutoViz_Class\u001b[49m()\n\u001b[1;32m      4\u001b[0m \u001b[38;5;66;03m# Specify your target column (change to 'HadClaim' for classification)\u001b[39;00m\n\u001b[1;32m      5\u001b[0m dft \u001b[38;5;241m=\u001b[39m AV\u001b[38;5;241m.\u001b[39mAutoViz(\n\u001b[1;32m      6\u001b[0m     filename\u001b[38;5;241m=\u001b[39m\u001b[38;5;124m\"\u001b[39m\u001b[38;5;124m\"\u001b[39m, \n\u001b[1;32m      7\u001b[0m     dfte\u001b[38;5;241m=\u001b[39mdf, \n\u001b[1;32m      8\u001b[0m     depVar\u001b[38;5;241m=\u001b[39m\u001b[38;5;124m\"\u001b[39m\u001b[38;5;124mTotalClaims\u001b[39m\u001b[38;5;124m\"\u001b[39m,  \u001b[38;5;66;03m# or \"HadClaim\"\u001b[39;00m\n\u001b[1;32m      9\u001b[0m     verbose\u001b[38;5;241m=\u001b[39m\u001b[38;5;241m1\u001b[39m\n\u001b[1;32m     10\u001b[0m )\n",
      "\u001b[0;31mNameError\u001b[0m: name 'AutoViz_Class' is not defined"
     ]
    }
   ],
   "source": [
    "# 📊 Step 2: Run AutoViz Analysis\n",
    "AV = AutoViz_Class()\n",
    "\n",
    "# Specify your target column (change to 'HadClaim' for classification)\n",
    "dft = AV.AutoViz(\n",
    "    filename=\"\", \n",
    "    dfte=df, \n",
    "    depVar=\"TotalClaims\",  # or \"HadClaim\"\n",
    "    verbose=1\n",
    ")\n"
   ]
  },
  {
   "cell_type": "markdown",
   "id": "e6e8f5df",
   "metadata": {},
   "source": [
    "### Look for Correlations:"
   ]
  },
  {
   "cell_type": "markdown",
   "id": "435ce5ca",
   "metadata": {},
   "source": [
    "## 🧹 Step 4: Prepare the Data for ML Algorithms"
   ]
  },
  {
   "cell_type": "markdown",
   "id": "48afb816",
   "metadata": {},
   "source": [
    "### Separate Features and Labels: "
   ]
  },
  {
   "cell_type": "markdown",
   "id": "4066c316",
   "metadata": {
    "vscode": {
     "languageId": "plaintext"
    }
   },
   "source": [
    "### Handle Missing Values:"
   ]
  },
  {
   "cell_type": "markdown",
   "id": "9c754da5",
   "metadata": {},
   "source": [
    "### Handle Text and Categorical Attributes:"
   ]
  },
  {
   "cell_type": "markdown",
   "id": "99d6e8c2",
   "metadata": {
    "vscode": {
     "languageId": "plaintext"
    }
   },
   "source": [
    "### Feature Scaling:"
   ]
  },
  {
   "cell_type": "markdown",
   "id": "6996de18",
   "metadata": {},
   "source": [
    "### Custom Transformers: "
   ]
  },
  {
   "cell_type": "markdown",
   "id": "20092d0f",
   "metadata": {
    "vscode": {
     "languageId": "plaintext"
    }
   },
   "source": [
    "### Transformation Pipelines:"
   ]
  },
  {
   "cell_type": "markdown",
   "id": "44138322",
   "metadata": {
    "vscode": {
     "languageId": "plaintext"
    }
   },
   "source": [
    "## 🔧 Step 5: Select a Model and Train"
   ]
  },
  {
   "cell_type": "markdown",
   "id": "77f08955",
   "metadata": {},
   "source": [
    "### Baseline models:"
   ]
  },
  {
   "cell_type": "markdown",
   "id": "28bcc2ef",
   "metadata": {
    "vscode": {
     "languageId": "plaintext"
    }
   },
   "source": [
    "### Training on a Small Set (for initial sanity check):"
   ]
  },
  {
   "cell_type": "markdown",
   "id": "209d4956",
   "metadata": {
    "vscode": {
     "languageId": "plaintext"
    }
   },
   "source": [
    "### Evaluate on the Training Set:"
   ]
  },
  {
   "cell_type": "markdown",
   "id": "f5a44059",
   "metadata": {},
   "source": [
    "### Better Evaluation Using Cross-Validation:"
   ]
  },
  {
   "cell_type": "markdown",
   "id": "19ee00f3",
   "metadata": {},
   "source": [
    "## Step 6 : Fine-Tune Your Model"
   ]
  },
  {
   "cell_type": "markdown",
   "id": "0cc13742",
   "metadata": {},
   "source": [
    "### optuna"
   ]
  },
  {
   "cell_type": "markdown",
   "id": "a274ad20",
   "metadata": {},
   "source": [
    "### Grid Search:"
   ]
  },
  {
   "cell_type": "markdown",
   "id": "a957d140",
   "metadata": {},
   "source": [
    "### Analyze the Best Models and Their Errors:"
   ]
  },
  {
   "cell_type": "markdown",
   "id": "252781fb",
   "metadata": {},
   "source": [
    "### Ensemble Methods: "
   ]
  },
  {
   "cell_type": "markdown",
   "id": "519608c5",
   "metadata": {
    "vscode": {
     "languageId": "plaintext"
    }
   },
   "source": [
    "## 📈 Step 7. Evaluate System on the Test Set"
   ]
  },
  {
   "cell_type": "markdown",
   "id": "29734121",
   "metadata": {},
   "source": [
    "### Final Evaluation:"
   ]
  },
  {
   "cell_type": "markdown",
   "id": "c982be0b",
   "metadata": {},
   "source": [
    "### Confidence Intervals:"
   ]
  },
  {
   "cell_type": "markdown",
   "id": "d2d1f64b",
   "metadata": {},
   "source": [
    "##  🧠 Step  8. Present Your Solution"
   ]
  },
  {
   "cell_type": "markdown",
   "id": "a3564fe6",
   "metadata": {
    "vscode": {
     "languageId": "plaintext"
    }
   },
   "source": [
    "### Model Explainability  -SHAP"
   ]
  },
  {
   "cell_type": "markdown",
   "id": "a6f5148e",
   "metadata": {
    "vscode": {
     "languageId": "plaintext"
    }
   },
   "source": [
    "## 🚀 Step 9: Launch, Monitor, and Maintain System"
   ]
  }
 ],
 "metadata": {
  "kernelspec": {
   "display_name": "venv",
   "language": "python",
   "name": "python3"
  },
  "language_info": {
   "codemirror_mode": {
    "name": "ipython",
    "version": 3
   },
   "file_extension": ".py",
   "mimetype": "text/x-python",
   "name": "python",
   "nbconvert_exporter": "python",
   "pygments_lexer": "ipython3",
   "version": "3.10.12"
  }
 },
 "nbformat": 4,
 "nbformat_minor": 5
}
